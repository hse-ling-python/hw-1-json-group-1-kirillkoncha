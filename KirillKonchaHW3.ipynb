{
 "cells": [
  {
   "cell_type": "markdown",
   "metadata": {},
   "source": [
    "# Кирилл Конча БКЛ181\n",
    "## Задание 1\n",
    "\n",
    "Этот пункт уже был разобран на [семинаре](https://github.com/hse-python-2nd-2019/seminars/blob/master/json_data/json_1.ipynb), поэтому нет смысла пояснять его.\n"
   ]
  },
  {
   "cell_type": "code",
   "execution_count": 16,
   "metadata": {},
   "outputs": [
    {
     "name": "stdout",
     "output_type": "stream",
     "text": [
      "2556\n"
     ]
    }
   ],
   "source": [
    "import json\n",
    "\n",
    "twitter = []\n",
    "for line in open ('hw_3_twitter.json'):\n",
    "    twitter.append(json.loads(line))\n",
    "\n",
    "number_of_twits = len(twitter)\n",
    "print(number_of_twits)"
   ]
  },
  {
   "cell_type": "markdown",
   "metadata": {},
   "source": [
    "## Задание 2\n",
    "\n",
    "Чтобы получить ответ на это задание нужно нужны пары со значением delete разделить на общее число твиттов. \n"
   ]
  },
  {
   "cell_type": "code",
   "execution_count": 18,
   "metadata": {},
   "outputs": [
    {
     "name": "stdout",
     "output_type": "stream",
     "text": [
      "14.162754303599373  %\n"
     ]
    }
   ],
   "source": [
    "deleted = []\n",
    "\n",
    "for line in twitter:\n",
    "    if line.get('delete') != None: \n",
    "        deleted.append(line)\n",
    "\n",
    "number_of_deleted = len(deleted)\n",
    "percent = number_of_deleted/number_of_twits * 100\n",
    "print(percent, ' %')"
   ]
  },
  {
   "cell_type": "markdown",
   "metadata": {},
   "source": [
    "## Задание 3\n",
    "\n",
    "По аналогии со вторым заданием получим список неудаленных твиттов. \n",
    "\n",
    "Из документации известно, что значение ключа user -- это словарь, где есть пара с ключом lang, которая и нужна нам."
   ]
  },
  {
   "cell_type": "code",
   "execution_count": 22,
   "metadata": {},
   "outputs": [
    {
     "name": "stdout",
     "output_type": "stream",
     "text": [
      "[('en', 1048), ('ja', 411), ('es', 183), ('ko', 116), ('th', 104), ('pt', 80), ('ar', 69), ('fr', 39), ('id', 27), ('tr', 24)]\n"
     ]
    }
   ],
   "source": [
    "from collections import Counter\n",
    "\n",
    "exist = []\n",
    "languages = []\n",
    "\n",
    "for line in twitter:\n",
    "    if line.get('delete') == None: \n",
    "        exist.append(line)\n",
    "\n",
    "for line in exist:\n",
    "    user = line['user']\n",
    "    languages.append(user.get('lang'))\n",
    "\n",
    "counter = Counter(languages)\n",
    "languages_list = counter.most_common(10)\n",
    "\n",
    "print(languages_list)"
   ]
  },
  {
   "cell_type": "markdown",
   "metadata": {},
   "source": [
    "## Задание 4\n",
    "\n",
    "Создадим список из id-номеров, потом частотный словарь, после проверка -- если написано более одного твитта, то прибавление к number.\n",
    "\n"
   ]
  },
  {
   "cell_type": "code",
   "execution_count": 36,
   "metadata": {},
   "outputs": [
    {
     "name": "stdout",
     "output_type": "stream",
     "text": [
      "25\n"
     ]
    }
   ],
   "source": [
    "from collections import Counter\n",
    "\n",
    "user_data = []\n",
    "\n",
    "for line in exist:\n",
    "    user = line['user']\n",
    "    ID = user.get('id_str')\n",
    "    user_data.append(ID)\n",
    "\n",
    "counter = Counter(user_data)\n",
    "id_list = counter.most_common()\n",
    "\n",
    "number = 0\n",
    "\n",
    "for item in id_list:\n",
    "    if item[1] > 1:\n",
    "        number = number + 1\n",
    "\n",
    "print(number)"
   ]
  },
  {
   "cell_type": "markdown",
   "metadata": {},
   "source": [
    "## Задание 5\n",
    "\n",
    "Hashtags содержит словарь, в котором текст хэштега в ключе text"
   ]
  },
  {
   "cell_type": "code",
   "execution_count": 46,
   "metadata": {},
   "outputs": [
    {
     "name": "stdout",
     "output_type": "stream",
     "text": [
      "[('BTS', 17), ('방탄소년단', 13), ('AMAs', 11), ('人気投票ガチャ', 8), ('태형', 7), ('뷔', 6), ('BTSinChicago', 5), ('BTSLoveYourselfTour', 5), ('오늘의방탄', 5), ('PledgeForSwachhBharat', 5), ('MPN', 5), ('PCAs', 4), ('V', 4), ('시카고1회차공연', 4), ('เป๊กผลิตโชค', 4), ('JIMIN', 4), ('running', 3), ('NCT', 3), ('지민', 3), ('WajahmuPlastik', 3)]\n"
     ]
    }
   ],
   "source": [
    "from collections import Counter\n",
    "\n",
    "hashtags_data = []\n",
    "\n",
    "for line in exist:\n",
    "    user = line['entities']\n",
    "    hashtags = user.get('hashtags')\n",
    "\n",
    "    for item in hashtags:\n",
    "        hashtags_data.append(item.get('text'))\n",
    "\n",
    "counter = Counter(hashtags_data)\n",
    "hashtags_list = counter.most_common(20)\n",
    "\n",
    "print(hashtags_list)\n"
   ]
  },
  {
   "cell_type": "markdown",
   "metadata": {},
   "source": [
    "## Задание 6"
   ]
  },
  {
   "cell_type": "code",
   "execution_count": 48,
   "metadata": {},
   "outputs": [
    {
     "name": "stdout",
     "output_type": "stream",
     "text": [
      "[('t', 273), ('https', 241), ('co', 235), ('the', 117), ('i', 97), ('a', 82), ('to', 81), ('and', 60), ('you', 52), ('it', 52), ('of', 46), ('is', 43), ('s', 42), ('that', 38), ('for', 37), ('in', 36), ('this', 28), ('my', 28), ('on', 26), ('be', 25), ('m', 24), ('me', 24), ('what', 21), ('so', 20), ('are', 18), ('have', 18), ('get', 17), ('not', 17), ('more', 17), ('but', 17), ('with', 17), ('your', 16), ('can', 16), ('he', 16), ('about', 14), ('we', 14), ('they', 14), ('like', 14), ('just', 14), ('all', 13), ('b', 12), ('at', 12), ('if', 12), ('was', 12), ('n', 12), ('hit', 11), ('or', 10), ('no', 10), ('e', 10), ('c', 10), ('now', 10), ('who', 10), ('out', 9), ('h', 9), ('up', 9), ('from', 9), ('as', 9), ('o', 9), ('people', 9), ('u', 9), ('time', 8), ('d', 8), ('don', 8), ('love', 8), ('w', 8), ('y', 8), ('amp', 8), ('when', 8), ('didn', 8), ('one', 8), ('an', 8), ('f', 8), ('still', 8), ('ll', 7), ('know', 7), ('z', 7), ('good', 7), ('de', 7), ('how', 7), ('make', 7), ('l', 7), ('some', 7), ('need', 7), ('way', 7), ('him', 7), ('v', 7), ('fuck', 7), ('think', 6), ('why', 6), ('free', 6), ('k', 6), ('really', 6), ('their', 6), ('by', 6), ('game', 6), ('p', 6), ('only', 6), ('day', 6), ('want', 6), ('first', 6), ('na', 6), ('life', 6), ('today', 6), ('she', 6), ('much', 6), ('will', 6), ('than', 5), ('our', 5), ('rp', 5), ('her', 5), ('has', 5), ('sad', 5), ('di', 5), ('seeing', 5), ('team', 5), ('because', 5), ('en', 5), ('own', 5), ('im', 5), ('too', 5), ('via', 5), ('gore', 5), ('go', 5), ('its', 5), ('hope', 5), ('been', 5), ('el', 5), ('q', 5), ('man', 5), ('here', 4), ('shit', 4), ('dm', 4), ('night', 4), ('looking', 4), ('check', 4), ('these', 4), ('always', 4), ('long', 4), ('must', 4), ('best', 4), ('take', 4), ('ve', 4), ('g', 4), ('heart', 4), ('back', 4), ('into', 4), ('mau', 4), ('then', 4), ('off', 4), ('do', 4), ('ko', 4), ('before', 4), ('r', 4), ('hell', 4), ('better', 4), ('there', 4), ('most', 4), ('real', 4), ('youtube', 4), ('kavanaugh', 4), ('sen', 4), ('yes', 4), ('watch', 4), ('lo', 4), ('new', 4), ('story', 4), ('re', 4), ('see', 4), ('getting', 3), ('top', 3), ('might', 3), ('op', 3), ('current', 3), ('change', 3), ('tapi', 3), ('ever', 3), ('had', 3), ('x', 3), ('should', 3), ('decision', 3), ('smart', 3), ('even', 3), ('part', 3), ('playing', 3), ('song', 3), ('haven', 3), ('easy', 3), ('bad', 3), ('stuff', 3), ('loved', 3), ('ha', 3), ('por', 3), ('point', 3), ('week', 3), ('nothing', 3), ('next', 3), ('last', 3), ('remote', 3), ('says', 3), ('his', 3), ('them', 3), ('did', 3), ('any', 3), ('es', 3), ('como', 3), ('la', 3), ('pero', 3), ('live', 3), ('lmao', 3), ('gonna', 3), ('since', 3), ('rings', 3), ('cute', 3), ('series', 3), ('everyone', 3), ('business', 3), ('j', 3), ('am', 3), ('high', 3), ('yet', 3), ('nd', 3), ('thank', 3), ('seen', 3), ('ya', 3), ('wrong', 3), ('lot', 3), ('made', 3), ('sis', 3), ('got', 3), ('let', 3), ('another', 3), ('great', 3), ('cubs', 3), ('video', 3), ('money', 3), ('run', 3), ('pardede', 3), ('feel', 3), ('lah', 3), ('keep', 3), ('rt', 3), ('say', 3), ('phone', 3), ('kids', 2), ('bg', 2), ('strategy', 2), ('girls', 2), ('well', 2), ('wait', 2), ('sudah', 2), ('dengan', 2), ('mulai', 2), ('dari', 2), ('jutaan', 2), ('tonight', 2), ('tv', 2), ('personal', 2), ('sleep', 2), ('fast', 2), ('emergency', 2), ('without', 2), ('volume', 2), ('could', 2), ('morning', 2), ('gelre', 2), ('fm', 2), ('uur', 2), ('things', 2), ('wwwyoutub', 2), ('coming', 2), ('planet', 2), ('instagram', 2), ('click', 2), ('gv', 2), ('court', 2), ('rd', 2), ('dont', 2), ('pick', 2), ('myself', 2), ('favorite', 2), ('years', 2), ('ink', 2), ('lost', 2), ('united', 2), ('draw', 2), ('ball', 2), ('japan', 2), ('light', 2), ('stand', 2), ('literally', 2), ('pretty', 2), ('ones', 2), ('los', 2), ('crash', 2), ('para', 2), ('feku', 2), ('public', 2), ('hai', 2), ('after', 2), ('single', 2), ('dating', 2), ('mr', 2), ('many', 2), ('each', 2), ('short', 2), ('days', 2), ('sun', 2), ('post', 2), ('hat', 2), ('advisory', 2), ('le', 2), ('pipi', 2), ('nan', 2), ('trump', 2), ('told', 2), ('dz', 2), ('samygo', 2), ('following', 2), ('over', 2), ('expect', 2), ('family', 2), ('course', 2), ('miss', 2), ('drive', 2), ('lol', 2), ('mqm', 2), ('makasih', 2), ('mom', 2), ('mi', 2), ('blockchain', 2), ('insurance', 2), ('canada', 2), ('kid', 2), ('were', 2), ('went', 2), ('tired', 2), ('bed', 2), ('wind', 2), ('sebgorka', 2), ('ada', 2), ('yg', 2), ('yeri', 2), ('al', 2), ('food', 2), ('maybe', 2), ('realize', 2), ('missing', 2), ('gotta', 2), ('stop', 2), ('sweet', 2), ('said', 2), ('ahora', 2), ('train', 2), ('cold', 2), ('nh', 2), ('walking', 2), ('dead', 2), ('super', 2), ('rare', 2), ('does', 2), ('twitter', 2), ('months', 2), ('true', 2), ('false', 2), ('st', 2), ('ladder', 2), ('second', 2), ('cancer', 2), ('felt', 2), ('ae', 2), ('test', 2), ('every', 2), ('cemilan', 2), ('planning', 2), ('card', 2), ('cest', 2), ('lead', 2), ('wow', 2), ('eat', 2), ('term', 2), ('tax', 2), ('which', 2), ('tl', 2), ('fx', 2), ('understand', 2), ('hahahah', 2), ('october', 2), ('cloudy', 2), ('low', 2), ('wanted', 2), ('kamu', 2), ('gitu', 2), ('hidup', 2), ('tarif', 2), ('km', 2), ('yang', 2), ('gak', 2), ('women', 2), ('hi', 2), ('wear', 2), ('paid', 2), ('would', 2), ('hayi', 2), ('taking', 2), ('worth', 2), ('nya', 2), ('lie', 2), ('pun', 2), ('sbab', 2), ('ni', 2), ('watching', 2), ('sana', 2), ('trade', 2), ('everyday', 2), ('park', 2), ('pledgeforswachhbharat', 2), ('happy', 2), ('baby', 2), ('voc', 2), ('help', 2), ('mind', 2), ('answer', 2), ('news', 2), ('si', 2), ('mood', 2), ('gone', 2), ('grade', 2), ('bc', 2), ('addition', 2), ('house', 2), ('india', 2), ('took', 2), ('rome', 2), ('spider', 2), ('sure', 2), ('also', 2), ('yeah', 2), ('okay', 2), ('situation', 2), ('senate', 2), ('ump', 2), ('retribution', 2), ('both', 2), ('ba', 2), ('walls', 2), ('bueno', 2), ('ex', 2), ('wwwyoutubecom', 2), ('artist', 2), ('official', 2), ('recent', 2), ('picture', 2), ('thala', 2), ('sir', 2), ('min', 2), ('running', 2), ('show', 2), ('liked', 2), ('something', 2), ('follow', 2), ('ny', 2), ('ronaldo', 2), ('beban', 2), ('pls', 2), ('itu', 2), ('probably', 2), ('ass', 2), ('sing', 2), ('bila', 2), ('reach', 2), ('escape', 2), ('season', 2), ('side', 2), ('bts', 2), ('bighit', 2), ('face', 2), ('legit', 2), ('data', 2), ('aq', 2), ('baseball', 2), ('look', 2), ('remember', 2), ('wwwyoutube', 2), ('dominos', 2), ('actually', 2), ('while', 2), ('engkau', 2), ('qqyllna', 1), ('bvwkjmfcll', 1), ('fpwjavsael', 1), ('najafi', 1), ('tehrani', 1), ('tatolote', 1), ('higher', 1), ('toys', 1), ('christmas', 1), ('picks', 1), ('jq', 1), ('ap', 1), ('sharing', 1), ('videos', 1), ('essential', 1), ('digital', 1), ('wondering', 1), ('artic', 1), ('qrhgs', 1), ('mfib', 1), ('mccalls', 1), ('childrens', 1), ('tops', 1), ('dress', 1), ('belt', 1), ('ruffle', 1), ('jeans', 1), ('sz', 1), ('cl', 1), ('yc', 1), ('urq', 1), ('ebay', 1), ('dtmyznyyam', 1), ('return', 1), ('australia', 1), ('tickets', 1), ('info', 1), ('ymwanig', 1), ('hrldk', 1), ('kiw', 1), ('gimana', 1), ('sahabat', 1), ('sreg', 1), ('astra', 1), ('daihatsu', 1), ('sigra', 1), ('harga', 1), ('atau', 1), ('dp', 1), ('gesany', 1), ('bx', 1), ('sometimes', 1), ('problematic', 1), ('abcblackcomedy', 1), ('continues', 1), ('pm', 1), ('abc', 1), ('cheeky', 1), ('afte', 1), ('dmb', 1), ('jlx', 1), ('finance', 1), ('employment', 1), ('issues', 1), ('letting', 1), ('worry', 1), ('expert', 1), ('consu', 1), ('avroxpcco', 1), ('fair', 1), ('festival', 1), ('tbm', 1), ('fkui', 1), ('acara', 1), ('kesehatan', 1), ('tema', 1), ('kegawatdaruratan', 1), ('rumah', 1), ('tangga', 1), ('save', 1), ('lcdr', 1), ('iyhwa', 1), ('thordbbzjh', 1), ('exercise', 1), ('worrying', 1), ('breakouts', 1), ('rashes', 1), ('tips', 1), ('tricks', 1), ('care', 1), ('gyys', 1), ('mndmd', 1), ('giving', 1), ('preference', 1), ('btc', 1), ('price', 1), ('marketcap', 1), ('ssazdfdl', 1), ('taeilthetic', 1), ('supposed', 1), ('compliment', 1), ('obrigada', 1), ('mahalaktm', 1), ('ekis', 1), ('yungriix', 1), ('mine', 1), ('looked', 1), ('disastrous', 1), ('band', 1), ('peeps', 1), ('pandey', 1), ('tisha', 1), ('haroon', 1), ('natamam', 1), ('mor', 1), ('tct', 1), ('nu', 1), ('ochtendshow', 1), ('met', 1), ('jesse', 1), ('sprikkelman', 1), ('distraksial', 1), ('abaaaanggg', 1), ('kita', 1), ('kurang', 1), ('dekat', 1), ('mari', 1), ('mendekatkan', 1), ('diri', 1), ('songs', 1), ('words', 1), ('choose', 1), ('between', 1), ('neilyoung', 1), ('waay', 1), ('pyq', 1), ('afraid', 1), ('ai', 1), ('job', 1), ('shouldn', 1), ('instead', 1), ('worried', 1), ('integrate', 1), ('izplhyag', 1), ('astronomers', 1), ('named', 1), ('goblin', 1), ('learned', 1), ('quite', 1), ('nine', 1), ('eqehvo', 1), ('mama', 1), ('mo', 1), ('taeyeon', 1), ('learn', 1), ('sell', 1), ('shop', 1), ('stories', 1), ('ads', 1), ('adfpbavzhm', 1), ('inc', 1), ('shane', 1), ('barker', 1), ('gbvsorpme', 1), ('welcome', 1), ('biltongbar', 1), ('through', 1), ('delicious', 1), ('biltong', 1), ('recipes', 1), ('wm', 1), ('dymcrv', 1), ('ejwe', 1), ('rupeeat', 1), ('ghk', 1), ('sarah', 1), ('palin', 1), ('son', 1), ('track', 1), ('faces', 1), ('jail', 1), ('ehgifzblcd', 1), ('kt', 1), ('cnkh', 1), ('gaf', 1), ('anything', 1), ('anymore', 1), ('perak', 1), ('bids', 1), ('meru', 1), ('city', 1), ('fvszuvsmzm', 1), ('faker', 1), ('tapos', 1), ('naaaaaaa', 1), ('sunburned', 1), ('hearteuu', 1), ('wowcuppcaake', 1), ('thetwitchbakery', 1), ('stream', 1), ('ago', 1), ('njc', 1), ('tombstones', 1), ('ut', 1), ('gaming', 1), ('server', 1), ('echo', 1), ('asbestos', 1), ('players', 1), ('qdwj', 1), ('hbdajxjm', 1), ('oxahufxvdt', 1), ('hyuna', 1), ('trust', 1), ('michael', 1), ('stomped', 1), ('earth', 1), ('obsorbed', 1), ('force', 1), ('ski', 1), ('gwbsxofdf', 1), ('liste', 1), ('compl', 1), ('te', 1), ('des', 1), ('banques', 1), ('somalie', 1), ('pdiswrqaig', 1), ('manchester', 1), ('frustrated', 1), ('valencia', 1), ('barren', 1), ('old', 1), ('trafford', 1), ('mourinho', 1), ('idp', 1), ('jr', 1), ('nhl', 1), ('alert', 1), ('sponsor', 1), ('entry', 1), ('contest', 1), ('depoist', 1), ('draftkings', 1), ('ilqzuo', 1), ('zy', 1), ('umaaaaaa', 1), ('koto', 1), ('ku', 1), ('tokyo', 1), ('mt', 1), ('kso', 1), ('cardboardshark', 1), ('candles', 1), ('incense', 1), ('dissolve', 1), ('salt', 1), ('cup', 1), ('water', 1), ('eastern', 1), ('sid', 1), ('cw', 1), ('gguggdd', 1), ('crashed', 1), ('previous', 1), ('corners', 1), ('chances', 1), ('stack', 1), ('murray', 1), ('motorsportmoments', 1), ('eskwalsdec', 1), ('sunglasses', 1), ('texanmarcy', 1), ('pftompkins', 1), ('busyphilipps', 1), ('separate', 1), ('reac', 1), ('uvs', 1), ('fbwbl', 1), ('yfi', 1), ('rsvmg', 1), ('tweeted', 1), ('times', 1), ('rachel', 1), ('marie', 1), ('writer', 1), ('hflpz', 1), ('jguh', 1), ('friday', 1), ('lets', 1), ('sum', 1), ('firechiarelli', 1), ('come', 1), ('across', 1), ('fogot', 1), ('cube', 1), ('brothers', 1), ('uekoms', 1), ('proflexstrength', 1), ('proflex', 1), ('whey', 1), ('protein', 1), ('id', 1), ('tcei', 1), ('mejores', 1), ('modelodegesti', 1), ('eje', 1), ('social', 1), ('acci', 1), ('gabinete', 1), ('sectorial', 1), ('presentar', 1), ('propuesta', 1), ('desarrollo', 1), ('xspne', 1), ('ytu', 1), ('aagekisoch', 1), ('kaptanhindustan', 1), ('haan', 1), ('dono', 1), ('pappu', 1), ('nautanki', 1), ('kar', 1), ('tere', 1), ('baap', 1), ('ka', 1), ('surrname', 1), ('banaatey', 1), ('rexchidubem', 1), ('exactly', 1), ('annoying', 1), ('online', 1), ('seasons', 1), ('coins', 1), ('finishing', 1), ('revoir', 1), ('yung', 1), ('chung', 1), ('visite', 1), ('du', 1), ('studio', 1), ('hung', 1), ('tao', 1), ('jauasxh', 1), ('big', 1), ('gn', 1), ('start', 1), ('remembering', 1), ('dreams', 1), ('leo', 1), ('cee', 1), ('qnrwtlyvj', 1), ('smolbaka', 1), ('sky', 1), ('calling', 1), ('burakovsky', 1), ('thing', 1), ('lock', 1), ('world', 1), ('outside', 1), ('rated', 1), ('sexytimes', 1), ('ao', 1), ('ql', 1), ('rjdj', 1), ('qmysqvw', 1), ('gbpinr', 1), ('oi', 1), ('oct', 1), ('ist', 1), ('imkorean', 1), ('highest', 1), ('earn', 1), ('ticket', 1), ('kinda', 1), ('rlbtg', 1), ('vrep', 1), ('qpac', 1), ('taste', 1), ('priscilla', 1), ('queen', 1), ('desert', 1), ('musical', 1), ('fabulous', 1), ('wszs', 1), ('woq', 1), ('hours', 1), ('minutes', 1), ('seconds', 1), ('until', 1), ('icos', 1), ('zlrb', 1), ('oxoi', 1), ('gosayyay', 1), ('nt', 1), ('vi', 1), ('psje', 1), ('quotes', 1), ('freshly', 1), ('created', 1), ('enjoy', 1), ('whatsappstatus', 1), ('latestquotes', 1), ('mpvia', 1), ('gmsl', 1), ('qvpmo', 1), ('phd', 1), ('felda', 1), ('land', 1), ('deal', 1), ('suit', 1), ('judge', 1), ('recuses', 1), ('herself', 1), ('ulq', 1), ('ezzbd', 1), ('hrvddyyu', 1), ('joe', 1), ('tj', 1), ('electric', 1), ('garden', 1), ('tiller', 1), ('inch', 1), ('certified', 1), ('refurbished', 1), ('mzxwuz', 1), ('sa', 1), ('smhsdxzcle', 1), ('wildcard', 1), ('vam', 1), ('gjlmli', 1), ('gifted', 1), ('malone', 1), ('gold', 1), ('bike', 1), ('nwdcgefcja', 1), ('prankclips', 1), ('funny', 1), ('prank', 1), ('iconflow', 1), ('airing', 1), ('soon', 1), ('airitoutradio', 1), ('station', 1), ('link', 1), ('lrn', 1), ('xxpgrx', 1), ('bmdersudbs', 1), ('laudyabeliana', 1), ('mat', 1), ('siang', 1), ('cantik', 1), ('red', 1), ('security', 1), ('schbcfw', 1), ('pou', 1), ('wap', 1), ('kaban', 1), ('pouw', 1), ('figim', 1), ('nah', 1), ('sewer', 1), ('gxm', 1), ('qqqs', 1), ('saudi', 1), ('king', 1), ('wouldn', 1), ('us', 1), ('support', 1), ('pa', 1), ('xfdi', 1), ('presstv', 1), ('ebpz', 1), ('nzui', 1), ('allows', 1), ('control', 1), ('samsung', 1), ('tvs', 1), ('local', 1), ('network', 1), ('using', 1), ('wi', 1), ('xqo', 1), ('fw', 1), ('kon', 1), ('beto', 1), ('rourke', 1), ('passenger', 1), ('backs', 1), ('claim', 1), ('fleeing', 1), ('dui', 1), ('nb', 1), ('ojmo', 1), ('vd', 1), ('zrv', 1), ('obrtv', 1), ('daze', 1), ('helps', 1), ('become', 1), ('disappointed', 1), ('ztxl', 1), ('nz', 1), ('explain', 1), ('yourself', 1), ('loves', 1), ('leightongrahame', 1), ('chacha', 1), ('niaratmadja', 1), ('enylove', 1), ('toni', 1), ('rom', 1), ('natasyarudy', 1), ('hanjenif', 1), ('jajangridwan', 1), ('askos', 1), ('alek', 1), ('santana', 1), ('cuy', 1), ('ntiuy', 1), ('isadiqiftikhar', 1), ('drarshadvohra', 1), ('izharulhassan', 1), ('faisalsabzwari', 1), ('aky', 1), ('rockbit', 1), ('abidifactor', 1), ('ps', 1), ('vote', 1), ('kite', 1), ('koh', 1), ('syudah', 1), ('menyadarkan', 1), ('kami', 1), ('kendra', 1), ('imitates', 1), ('seal', 1), ('facepalms', 1), ('eres', 1), ('hija', 1), ('hehehehe', 1), ('impact', 1), ('industry', 1), ('ahditq', 1), ('insurtech', 1), ('cvhtbhpr', 1), ('bvdkuwmrl', 1), ('customer', 1), ('churn', 1), ('usa', 1), ('gdp', 1), ('end', 1), ('customeracquisition', 1), ('addiction', 1), ('oeo', 1), ('ml', 1), ('mbl', 1), ('povqjrznqx', 1), ('interesting', 1), ('parts', 1), ('creation', 1), ('obscure', 1), ('instruments', 1), ('used', 1), ('during', 1), ('cre', 1), ('kdy', 1), ('qvjdfs', 1), ('rardgsnpoa', 1), ('shizukus', 1), ('wide', 1), ('awake', 1), ('mph', 1), ('wnw', 1), ('barometer', 1), ('hpa', 1), ('rising', 1), ('slowly', 1), ('temperature', 1), ('rain', 1), ('mm', 1), ('humidity', 1), ('eloraflora', 1), ('daninew', 1), ('same', 1), ('pretend', 1), ('burn', 1), ('witches', 1), ('godmroewic', 1), ('zky', 1), ('rzv', 1), ('beauty', 1), ('greater', 1), ('recommendation', 1), ('letter', 1), ('reference', 1), ('health', 1), ('toma', 1), ('champagne', 1), ('chandonnnnnnn', 1), ('utc', 1), ('imbecile', 1), ('jadi', 1), ('fams', 1), ('sendirian', 1), ('nih', 1), ('excuses', 1), ('buy', 1), ('una', 1), ('mujer', 1), ('buena', 1), ('literatura', 1), ('alcance', 1), ('todos', 1), ('incomprensible', 1), ('est', 1), ('pidos', 1), ('gabriel', 1), ('garc', 1), ('rquez', 1), ('flat', 1), ('whites', 1), ('where', 1), ('uk', 1), ('buys', 1), ('coffee', 1), ('ywdwe', 1), ('gulaaaaaaa', 1), ('weyh', 1), ('slide', 1), ('camni', 1), ('wake', 1), ('calls', 1), ('hurt', 1), ('knowing', 1), ('possibility', 1), ('heaven', 1), ('aint', 1), ('ridiculous', 1), ('soft', 1), ('cant', 1), ('thinking', 1), ('joon', 1), ('twirling', 1), ('zeenewshindi', 1), ('yicuvlpmyy', 1), ('busy', 1), ('philipps', 1), ('michelle', 1), ('williams', 1), ('friendship', 1), ('dawson', 1), ('vakhgwkufv', 1), ('zjunrotqh', 1), ('itsevandaniel', 1), ('emitiendo', 1), ('chaser', 1), ('mp', 1), ('oyeronke', 1), ('classic', 1), ('example', 1), ('copy', 1), ('paste', 1), ('drunk', 1), ('bar', 1), ('fight', 1), ('pfn', 1), ('uhu', 1), ('xb', 1), ('thought', 1), ('month', 1), ('jpum', 1), ('comics', 1), ('retailer', 1), ('colour', 1), ('variant', 1), ('ovdr', 1), ('klug', 1), ('comic', 1), ('jfvqb', 1), ('xuel', 1), ('nihatsirdar', 1), ('zabitalarin', 1), ('kafasi', 1), ('cok', 1), ('guzel', 1), ('sikayetin', 1), ('sikayet', 1), ('oldugunu', 1), ('bile', 1), ('anlamiyorlar', 1), ('azindan', 1), ('kadikoy', 1), ('zabitasi', 1), ('oyle', 1), ('tik', 1), ('tok', 1), ('trung', 1), ('qu', 1), ('vui', 1), ('ujuvlohodi', 1), ('bubbafartbucket', 1), ('usually', 1), ('martergarter', 1), ('yup', 1), ('mayweather', 1), ('mcgregor', 1), ('apr', 1), ('lxhcbs', 1), ('zi', 1), ('brett', 1), ('kavanaughvote', 1), ('cc', 1), ('jeffflake', 1), ('senatorcollins', 1), ('eobfmtemea', 1), ('xy', 1), ('bkpm', 1), ('split', 1), ('bk', 1), ('hybrid', 1), ('plunge', 1), ('mount', 1), ('rung', 1), ('thrillers', 1), ('bswnr', 1), ('ajgo', 1), ('someone', 1), ('mother', 1), ('breast', 1), ('loss', 1), ('xqsovcy', 1), ('expected', 1), ('ok', 1), ('cldlonttp', 1), ('everyhourr', 1), ('ali', 1), ('slm', 1), ('nayd', 1), ('mesaj', 1), ('ata', 1), ('misi', 1), ('odds', 1), ('maluma', 1), ('noticing', 1), ('comment', 1), ('buat', 1), ('jagoan', 1), ('pedas', 1), ('peluang', 1), ('bisnis', 1), ('tanpa', 1), ('modal', 1), ('roe', 1), ('fu', 1), ('makaronipedas', 1), ('makaroningelel', 1), ('makaronibandung', 1), ('xfilesslut', 1), ('fdskjhafd', 1), ('drink', 1), ('henny', 1), ('naynerz', 1), ('trips', 1), ('stresses', 1), ('tt', 1), ('fptvolrkmv', 1), ('affordable', 1), ('quick', 1), ('design', 1), ('services', 1), ('auxano', 1), ('businesscard', 1), ('bestbusinesscard', 1), ('wlwk', 1), ('tg', 1), ('lincolnbrewster', 1), ('letyourgloryshine', 1), ('rock', 1), ('radio', 1), ('puz', 1), ('raulvyescas', 1), ('debe', 1), ('serr', 1), ('praise', 1), ('bast', 1), ('petrelli', 1), ('donde', 1), ('sacas', 1), ('eso', 1), ('puede', 1), ('con', 1), ('manu', 1), ('un', 1), ('impresentable', 1), ('egocentrico', 1), ('su', 1), ('juego', 1), ('evoluc', 1), ('cmmcl', 1), ('fqua', 1), ('excited', 1), ('bless', 1), ('bonvoyages', 1), ('rm', 1), ('jhope', 1), ('hahahahahahahahahaa', 1), ('lmbvbyclgl', 1), ('boo', 1), ('finna', 1), ('naruto', 1), ('mozzarella', 1), ('sticks', 1), ('onion', 1), ('bracket', 1), ('management', 1), ('increase', 1), ('efficiency', 1), ('retirement', 1), ('portfolio', 1), ('uumttdcuuk', 1), ('anyone', 1), ('harness', 1), ('power', 1), ('emotional', 1), ('energy', 1), ('scorpio', 1), ('vfwdiasb', 1), ('north', 1), ('vs', 1), ('south', 1), ('headed', 1), ('visit', 1), ('melbourne', 1), ('zrl', 1), ('jorginshadow', 1), ('please', 1), ('guys', 1), ('middle', 1), ('yzmf', 1), ('gw', 1), ('vf', 1), ('wh', 1), ('qkdknqm', 1), ('trabajo', 1), ('pens', 1), ('se', 1), ('desapareceme', 1), ('llevame', 1), ('santorini', 1), ('asking', 1), ('rletdoggo', 1), ('uyyyy', 1), ('congrats', 1), ('robot', 1), ('koaalpb', 1), ('dns', 1), ('servers', 1), ('persistently', 1), ('difficult', 1), ('vajrabeat', 1), ('yetlbgzfmd', 1), ('fostah', 1), ('try', 1), ('sunrise', 1), ('partly', 1), ('lclke', 1), ('cgd', 1), ('tijd', 1), ('afgenomen', 1), ('opgewekt', 1), ('geleverd', 1), ('verbruik', 1), ('nice', 1), ('devoted', 1), ('car', 1), ('riuk', 1), ('irmu', 1), ('ripping', 1), ('seams', 1), ('acting', 1), ('jake', 1), ('pol', 1), ('crime', 1), ('equivalent', 1), ('ted', 1), ('bundy', 1), ('jeffrey', 1), ('dahmer', 1), ('stupid', 1), ('terus', 1), ('kalau', 1), ('mendapatkan', 1), ('cinta', 1), ('karena', 1), ('wajahmuplastik', 1), ('pasti', 1), ('bahagia', 1), ('pastinya', 1), ('ribet', 1), ('dalam', 1), ('kebohongan', 1), ('null', 1), ('tol', 1), ('trans', 1), ('sumatera', 1), ('dijamin', 1), ('tak', 1), ('lebih', 1), ('diizinka', 1), ('fqchx', 1), ('zkgd', 1), ('antokurnia', 1), ('yunartowijaya', 1), ('kenapa', 1), ('aja', 1), ('ke', 1), ('rmhnya', 1), ('trus', 1), ('foto', 1), ('upload', 1), ('sini', 1), ('kalo', 1), ('anggap', 1), ('benar', 1), ('pe', 1), ('sawlvhcbq', 1), ('serial', 1), ('sexual', 1), ('predator', 1), ('demeans', 1), ('belittles', 1), ('mkbhd', 1), ('smartwatch', 1), ('usual', 1), ('gps', 1), ('hartrate', 1), ('sensor', 1), ('os', 1), ('seems', 1), ('cqommdjlhe', 1), ('elj', 1), ('andallorie', 1), ('vhilms', 1), ('aldubeth', 1), ('pinkyfaye', 1), ('latuazon', 1), ('jegi', 1), ('wengcookie', 1), ('noemicaseres', 1), ('sakurakharel', 1), ('xdfqj', 1), ('unremarkable', 1), ('place', 1), ('unspeakable', 1), ('evil', 1), ('sugar', 1), ('creek', 1), ('ljsufvohvw', 1), ('woman', 1), ('fault', 1), ('cinnamontoastk', 1), ('impossible', 1), ('talk', 1), ('sports', 1), ('nl', 1), ('west', 1), ('playoffs', 1), ('lhjh', 1), ('gi', 1), ('judged', 1), ('reason', 1), ('sucks', 1), ('esy', 1), ('fhhmi', 1), ('lerato', 1), ('mkhondo', 1), ('behave', 1), ('chance', 1), ('isn', 1), ('ininainia', 1), ('untung', 1), ('statu', 1), ('wasap', 1), ('kemarin', 1), ('dikira', 1), ('istri', 1), ('baru', 1), ('wkwkwk', 1), ('shift', 1), ('tide', 1), ('barely', 1), ('perceptible', 1), ('qjvnusqedo', 1), ('living', 1), ('hellonemy', 1), ('itulah', 1), ('nini', 1), ('rsa', 1), ('mcm', 1), ('okaylah', 1), ('kulit', 1), ('sensitif', 1), ('lately', 1), ('je', 1), ('truk', 1), ('sbelum', 1), ('mmg', 1), ('jerawat', 1), ('sus', 1), ('azhjo', 1), ('nom', 1), ('eyeing', 1), ('shock', 1), ('loan', 1), ('move', 1), ('veteran', 1), ('swedish', 1), ('defender', 1), ('pk', 1), ('ox', 1), ('xwvbx', 1), ('plx', 1), ('tallest', 1), ('height', 1), ('called', 1), ('hbox', 1), ('jsar', 1), ('striving', 1), ('balance', 1), ('instinctual', 1), ('reaction', 1), ('virgo', 1), ('absx', 1), ('qyzg', 1), ('going', 1), ('titanic', 1), ('already', 1), ('ayy', 1), ('shet', 1), ('napressure', 1), ('dayon', 1), ('hahahaha', 1), ('feqyc', 1), ('goodluck', 1), ('stay', 1), ('strong', 1), ('maging', 1), ('successful', 1), ('kayo', 1), ('pact', 1), ('clause', 1), ('deterring', 1), ('china', 1), ('deals', 1), ('pj', 1), ('oopvlwi', 1), ('lokol', 1), ('stalbert', 1), ('tatumnicoleee', 1), ('waiting', 1), ('disappoint', 1), ('gedeeltelijk', 1), ('bewolkt', 1), ('kans', 1), ('neerslag', 1), ('noord', 1), ('weer', 1), ('dekust', 1), ('vftqnf', 1), ('taa', 1), ('upstephanie', 1), ('albert', 1), ('sherwood', 1), ('consider', 1), ('themselves', 1), ('town', 1), ('convenient', 1), ('udrbs', 1), ('xlz', 1), ('didnt', 1), ('dyin', 1), ('fxyqfuh', 1), ('alexjferraro', 1), ('birthday', 1), ('brother', 1), ('talejo', 1), ('jairbolsonaro', 1), ('nunca', 1), ('jofrkyi', 1), ('owners', 1), ('riverside', 1), ('ca', 1), ('employee', 1), ('problem', 1), ('join', 1), ('board', 1), ('directors', 1), ('pdkfinrrt', 1), ('sarciadong', 1), ('galunggong', 1), ('recipe', 1), ('tnoxeb', 1), ('bjc', 1), ('dj', 1), ('cv', 1), ('excuse', 1), ('tanghaling', 1), ('tapat', 1), ('martines', 1), ('hwy', 1), ('westbound', 1), ('driver', 1), ('struck', 1), ('several', 1), ('vehicles', 1), ('delays', 1), ('wb', 1), ('cummings', 1), ('skyway', 1), ('asks', 1), ('questions', 1), ('alone', 1), ('tod', 1), ('pisces', 1), ('folhhg', 1), ('nag', 1), ('resign', 1), ('mocha', 1), ('ivaaaania', 1), ('unkbfconyy', 1), ('doing', 1), ('xerszhuvfr', 1), ('act', 1), ('goma', 1), ('kw', 1), ('obig', 1), ('pedjskw', 1), ('issa', 1), ('boy', 1), ('postbigfines', 1), ('around', 1), ('yeast', 1), ('infection', 1), ('google', 1), ('optimise', 1), ('site', 1), ('rankings', 1), ('xf', 1), ('seo', 1), ('training', 1), ('broken', 1), ('text', 1), ('seventh', 1), ('hurting', 1), ('chanc', 1), ('zx', 1), ('lkkqtq', 1), ('unique', 1), ('style', 1), ('putting', 1), ('external', 1), ('conditions', 1), ('capricorn', 1), ('aruck', 1), ('lt', 1), ('anthonyvito', 1), ('making', 1), ('regular', 1), ('principal', 1), ('contributions', 1), ('payment', 1), ('mortgage', 1), ('sj', 1), ('jga', 1), ('lexiialijaii', 1), ('wzhpis', 1), ('aj', 1), ('genuinely', 1), ('nagaland', 1), ('open', 1), ('defecation', 1), ('state', 1), ('rmadaxervi', 1), ('eewlpsgpgi', 1), ('tbvw', 1), ('zip', 1), ('ouch', 1), ('home', 1), ('plate', 1), ('umpire', 1), ('full', 1), ('brunt', 1), ('pitch', 1), ('tamia', 1), ('nico', 1), ('naw', 1), ('appreciate', 1), ('technology', 1), ('whole', 1), ('vibe', 1), ('ackzz', 1), ('cmt', 1), ('rqkn', 1), ('mostly', 1), ('sunny', 1), ('italy', 1), ('sister', 1), ('won', 1), ('verse', 1), ('december', 1), ('applications', 1), ('sibli', 1), ('rxmr', 1), ('lcah', 1), ('folks', 1), ('experienced', 1), ('bullshit', 1), ('basis', 1), ('damned', 1), ('mf', 1), ('dfhcziw', 1), ('daisyxsock', 1), ('whos', 1), ('periscope', 1), ('woe', 1), ('generation', 1), ('advice', 1), ('prayer', 1), ('eggdrp', 1), ('golive', 1), ('periscopetv', 1), ('jro', 1), ('bajbi', 1), ('halmulaifii', 1), ('mhmj', 1), ('ghi', 1), ('lose', 1), ('appeal', 1), ('turning', 1), ('television', 1), ('theme', 1), ('fl', 1), ('broward', 1), ('hollywood', 1), ('chugqkxm', 1), ('thhour', 1), ('dire', 1), ('message', 1), ('proven', 1), ('pathological', 1), ('liar', 1), ('idea', 1), ('ily', 1), ('bihh', 1), ('ilyt', 1), ('jyabc', 1), ('minakatars', 1), ('sw', 1), ('opshinobi', 1), ('hate', 1), ('sakura', 1), ('doesnt', 1), ('dad', 1), ('wtf', 1), ('xradius', 1), ('tight', 1), ('financially', 1), ('class', 1), ('requiring', 1), ('spendi', 1), ('ktwxdtu', 1), ('vlmhma', 1), ('sandu', 1), ('replied', 1), ('kindly', 1), ('tar', 1), ('fucking', 1), ('name', 1), ('jtb', 1), ('least', 1), ('drilled', 1), ('ihofunko', 1), ('wants', 1), ('smoke', 1), ('wood', 1), ('survive', 1), ('becoming', 1), ('avatar', 1), ('daughter', 1), ('leave', 1), ('seriously', 1), ('though', 1), ('parishes', 1), ('bozeman', 1), ('cancel', 1), ('confession', 1), ('offer', 1), ('qzrgozwyvn', 1), ('pg', 1), ('ztdky', 1), ('lamyyalsuwaidi', 1), ('fdaiit', 1), ('chh', 1), ('blue', 1), ('gjxvtedyam', 1), ('fuckinghqze', 1), ('valebillz', 1), ('dare', 1), ('jonson', 1), ('villainrespi', 1), ('wplls', 1), ('forward', 1), ('beejones', 1), ('gts', 1), ('call', 1), ('batter', 1), ('winnbooker', 1), ('dpthekid', 1), ('cj', 1), ('barrett', 1), ('zekeshutdown', 1), ('lilbigbrother', 1), ('bossman', 1), ('bam', 1), ('sliced', 1), ('range', 1), ('arrogant', 1), ('entitled', 1), ('lying', 1), ('pos', 1), ('hay', 1), ('nada', 1), ('malo', 1), ('pensamiento', 1), ('hace', 1), ('william', 1), ('shakespeare', 1), ('nathisounds', 1), ('kaos', 1), ('tame', 1), ('impala', 1), ('tshirt', 1), ('unv', 1), ('cszzp', 1), ('dsc', 1), ('ua', 1), ('bigdickbigego', 1), ('lethargiccommie', 1), ('relaxants', 1), ('technically', 1), ('failed', 1), ('pseudo', 1), ('nation', 1), ('tried', 1), ('wijr', 1), ('ely', 1), ('xo', 1), ('hqeavue', 1), ('aloshart', 1), ('sorry', 1), ('turned', 1), ('sappy', 1), ('qrmw', 1), ('vxfrz', 1), ('ximenasalasc', 1), ('yo', 1), ('xime', 1), ('consejeriaddhh', 1), ('construyopais', 1), ('ivanduque', 1), ('karenabudi', 1), ('acregiones', 1), ('frbarbosad', 1), ('infopresidencia', 1), ('mininterior', 1), ('zvmhsmbxt', 1), ('saying', 1), ('cbs', 1), ('translator', 1), ('atrocity', 1), ('pkvte', 1), ('ohgx', 1), ('gensan', 1), ('thetunafishes', 1), ('xcch', 1), ('mzp', 1), ('marijuanablunts', 1), ('yaboysavage', 1), ('dom', 1), ('jusko', 1), ('tana', 1), ('service', 1), ('mayo', 1), ('nalang', 1), ('naka', 1), ('wifi', 1), ('congratulations', 1), ('victryant', 1), ('starting', 1), ('very', 1), ('label', 1), ('gun', 1), ('guns', 1), ('mlnieiud', 1), ('hime', 1), ('mitra', 1), ('dance', 1), ('teacher', 1), ('members', 1), ('repeatedly', 1), ('referring', 1), ('taehyung', 1), ('member', 1), ('dan', 1), ('auugwvvtb', 1), ('projetofftricqk', 1), ('ifb', 1), ('parang', 1), ('mafeel', 1), ('maiwan', 1), ('ako', 1), ('dito', 1), ('apartment', 1), ('later', 1), ('review', 1), ('innovation', 1), ('agency', 1), ('plans', 1), ('major', 1), ('push', 1), ('startups', 1), ('nhqciuoele', 1), ('jqjzwkawth', 1), ('ajith', 1), ('fan', 1), ('viswasam', 1), ('aytkyjhu', 1), ('problems', 1), ('fit', 1), ('pbojpr', 1), ('lep', 1), ('evr', 1), ('rl', 1), ('kabhi', 1), ('aisa', 1), ('ho', 1), ('jaye', 1), ('kay', 1), ('yaadein', 1), ('rahein', 1), ('stick', 1), ('cantact', 1), ('safety', 1), ('per', 1), ('reeva', 1), ('pack', 1), ('statistics', 1), ('leaving', 1), ('abusive', 1), ('relatio', 1), ('zaox', 1), ('yhkzb', 1), ('mary', 1), ('palominos', 1), ('theinsaneavi', 1), ('rachelsdoll', 1), ('aaaaaaaaagggghhhhh', 1), ('risivim', 1), ('haunting', 1), ('paso', 1), ('wrote', 1), ('page', 1), ('paper', 1), ('livid', 1), ('wag', 1), ('uy', 1), ('sarahpalinusa', 1), ('fantastic', 1), ('tells', 1), ('everything', 1), ('jennaaclaire', 1), ('hannahrenville', 1), ('tju', 1), ('wife', 1), ('forever', 1), ('marriage', 1), ('license', 1), ('iqybyq', 1), ('nog', 1), ('robynslov', 1), ('little', 1), ('monsters', 1), ('compare', 1), ('gaga', 1), ('wonderful', 1), ('buciiiinhunhun', 1), ('bukan', 1), ('aku', 1), ('kak', 1), ('kkkk', 1), ('akuntansi', 1), ('maksutnya', 1), ('ntar', 1), ('akunnya', 1), ('nambah', 1), ('banyak', 1), ('kkk', 1), ('knpa', 1), ('ga', 1), ('pindah', 1), ('jurusan', 1), ('kk', 1), ('shewhoblesses', 1), ('enough', 1), ('needed', 1), ('safe', 1), ('cqxujkc', 1), ('pi', 1), ('ford', 1), ('boyfriend', 1), ('helped', 1), ('friend', 1), ('prep', 1), ('potential', 1), ('polygraph', 1), ('pro', 1), ('ndamendment', 1), ('abzzauvm', 1), ('llennium', 1), ('hahahahhaha', 1), ('collect', 1), ('ur', 1), ('ranlar', 1), ('utans', 1), ('oxppzvbhnj', 1), ('finding', 1), ('former', 1), ('ferns', 1), ('hc', 1), ('andreas', 1), ('heraf', 1), ('actions', 1), ('crossed', 1), ('line', 1), ('bullying', 1), ('harassment', 1), ('uckcllduba', 1), ('caught', 1), ('breaks', 1), ('slightest', 1), ('yld', 1), ('prs', 1), ('cuma', 1), ('sebentar', 1), ('ngejomblonya', 1), ('kelamaan', 1), ('coronating', 1), ('naito', 1), ('fukuoka', 1), ('rather', 1), ('osaka', 1), ('optics', 1), ('cons', 1), ('vnqsv', 1), ('ty', 1), ('alwatansa', 1), ('urinbeygtt', 1), ('hot', 1), ('wings', 1), ('darnold', 1), ('szn', 1), ('ffb', 1), ('matters', 1), ('cook', 1), ('dalvin', 1), ('jared', 1), ('work', 1), ('passion', 1), ('ojeyufgjyo', 1), ('dextrocialts', 1), ('siii', 1), ('jpphfyrd', 1), ('yanksgalaxy', 1), ('kicked', 1), ('rindo', 1), ('esa', 1), ('mierda', 1), ('tratar', 1), ('hacer', 1), ('algo', 1), ('iniciativa', 1), ('solo', 1), ('cagadales', 1), ('trae', 1), ('verga', 1), ('oyuz', 1), ('perd', 1), ('nacer', 1), ('esto', 1), ('ten', 1), ('que', 1), ('haberlo', 1), ('aprendido', 1), ('soy', 1), ('bien', 1), ('necia', 1), ('sarcasm', 1), ('blood', 1), ('ruling', 1), ('needs', 1), ('either', 1), ('iu', 1), ('bq', 1), ('lq', 1), ('mydearlips', 1), ('mang', 1), ('wan', 1), ('kolkatamedicalcollege', 1), ('cjel', 1), ('rebio', 1), ('ash', 1), ('tough', 1), ('bet', 1), ('anyway', 1), ('casause', 1), ('itsmezaxk', 1), ('makan', 1), ('luar', 1), ('pain', 1), ('lahh', 1), ('keluar', 1), ('beli', 1), ('groceries', 1), ('nampak', 1), ('jimat', 1), ('ciket', 1), ('hahajajajaja', 1), ('eb', 1), ('uqb', 1), ('dms', 1), ('hour', 1), ('kas', 1), ('departed', 1), ('jhb', 1), ('late', 1), ('ttmcwwucp', 1), ('knew', 1), ('zadaa', 1), ('utmcbqeux', 1), ('psktkdepz', 1), ('currently', 1), ('kingdom', 1), ('mytholmroyd', 1), ('rolling', 1), ('nigga', 1), ('kdbxctin', 1), ('xsyjtdzm', 1), ('taylorj', 1), ('being', 1), ('incredible', 1), ('amazing', 1), ('thoughtful', 1), ('girl', 1), ('music', 1), ('aki', 1), ('winter', 1), ('wszcvcj', 1), ('ebw', 1), ('bxgxshannon', 1), ('saksakcherry', 1), ('kirinjeu', 1), ('basically', 1), ('fatinnmd', 1), ('ngek', 1), ('bluesdechocobo', 1), ('heheh', 1), ('mrmadee', 1), ('thx', 1), ('bro', 1), ('wish', 1), ('sarkar', 1), ('rednationrising', 1), ('ocasio', 1), ('cortez', 1), ('ignorant', 1), ('aims', 1), ('yhsdior', 1), ('rea', 1), ('zorngikzf', 1), ('napeachmin', 1), ('kp', 1), ('pgiveaways', 1), ('rtxrt', 1), ('rbcmombtph', 1), ('offense', 1), ('hits', 1), ('muster', 1), ('weak', 1), ('contact', 1), ('oreojoker', 1), ('ain', 1), ('question', 1), ('dude', 1), ('spent', 1), ('app', 1), ('ea', 1), ('right', 1), ('market', 1), ('winning', 1), ('genius', 1), ('dd', 1), ('wz', 1), ('cespedesbbq', 1), ('put', 1), ('theoutpost', 1), ('athlete', 1), ('outlook', 1), ('lewvx', 1), ('zvft', 1), ('kinseip', 1), ('riled', 1), ('controversial', 1), ('topics', 1), ('gdyntz', 1), ('lm', 1), ('strange', 1), ('telling', 1), ('daniel', 1), ('truth', 1), ('wearing', 1), ('socks', 1), ('slides', 1), ('working', 1), ('hard', 1), ('boys', 1), ('superb', 1), ('clearing', 1), ('breaking', 1), ('again', 1), ('suh', 1), ('mommywifelife', 1), ('holding', 1), ('purple', 1), ('shirt', 1), ('lmfao', 1), ('jk', 1), ('saw', 1), ('seem', 1), ('cnwq', 1), ('xhndmvamfx', 1), ('juliedicaro', 1), ('mitchrosen', 1), ('turn', 1), ('lakers', 1), ('arduino', 1), ('agree', 1), ('threats', 1), ('white', 1), ('men', 1), ('sick', 1), ('nicekicks', 1), ('nike', 1), ('oil', 1), ('grey', 1), ('air', 1), ('max', 1), ('deluxe', 1), ('spilled', 1), ('retail', 1), ('uir', 1), ('ozew', 1), ('wwetpwl', 1), ('beautiful', 1), ('specimen', 1), ('andrew', 1), ('person', 1), ('tqlhuzid', 1), ('daaaaarrell', 1), ('private', 1), ('thai', 1), ('village', 1), ('wmlhejgoec', 1), ('wednesday', 1), ('humpday', 1), ('xjyywvzpwg', 1), ('nvaaqvrhod', 1), ('frankly', 1), ('gods', 1), ('stupidest', 1), ('administer', 1), ('suleleyy', 1), ('mika', 1), ('yoongi', 1), ('professor', 1), ('impulsively', 1), ('wee', 1), ('wooing', 1), ('gwen', 1), ('stefani', 1), ('ybwg', 1), ('elizabeth', 1), ('tedxuniversityofnevada', 1), ('eyes', 1), ('eye', 1), ('cpec', 1), ('lahore', 1), ('abbtakk', 1), ('punjab', 1), ('russia', 1), ('cricket', 1), ('nawazsharif', 1), ('dk', 1), ('happened', 1), ('sako', 1), ('lazukfifl', 1), ('screwed', 1), ('huod', 1), ('aram', 1), ('kaw', 1), ('gidman', 1), ('deadmau', 1), ('manakgupta', 1), ('gssjodhpur', 1), ('tvchannel', 1), ('born', 1), ('itni', 1), ('bhi', 1), ('kya', 1), ('jaldi', 1), ('triick', 1), ('bgnhuhayoa', 1), ('ngaudiano', 1), ('confirmed', 1), ('recused', 1), ('watched', 1), ('scotus', 1), ('history', 1), ('rswsibc', 1), ('agustdvee', 1), ('jdjdksks', 1), ('frame', 1), ('travel', 1), ('tour', 1), ('company', 1), ('myanmar', 1), ('scared', 1), ('vernelltruitt', 1), ('mpn', 1), ('anitta', 1), ('selenagomez', 1), ('anitters', 1), ('anittagata', 1), ('medicina', 1), ('maiareficco', 1), ('alokgato', 1), ('cardi', 1), ('ooz', 1), ('ulk', 1), ('lfh', 1), ('orivfv', 1), ('diaace', 1), ('iankenyonnfl', 1), ('thomas', 1), ('sense', 1), ('qb', 1), ('kyles', 1), ('plan', 1), ('pursue', 1), ('nlgz', 1), ('nc', 1), ('unfollowed', 1), ('mad', 1), ('ig', 1), ('volunteer', 1), ('delivers', 1), ('monthly', 1), ('meeting', 1), ('networking', 1), ('hear', 1), ('premiertaxuk', 1), ('lf', 1), ('auvmx', 1), ('medhatshlaby', 1), ('lr', 1), ('rj', 1), ('kyeeeun', 1), ('hahahahahah', 1), ('zbpfo', 1), ('johncardillo', 1), ('pathetic', 1), ('schmuck', 1), ('tuck', 1), ('tail', 1), ('required', 1), ('bravery', 1), ('papertiger', 1), ('xn', 1), ('absolutely', 1), ('depressing', 1), ('having', 1), ('pluckers', 1), ('near', 1), ('crave', 1), ('concert', 1), ('crabby', 1), ('patty', 1), ('formula', 1), ('bluffy', 1), ('straightest', 1), ('ive', 1), ('shes', 1), ('porn', 1), ('tf', 1), ('down', 1), ('done', 1), ('cider', 1), ('sp', 1), ('gat', 1), ('thinks', 1), ('distance', 1), ('reflex', 1), ('shirou', 1), ('straighter', 1), ('yk', 1), ('jzqun', 1), ('brady', 1), ('hoke', 1), ('beside', 1), ('himself', 1), ('newprofilepic', 1), ('dug', 1), ('aib', 1), ('fall', 1), ('kevinprobably', 1), ('tuesday', 1), ('wql', 1), ('vxrn', 1), ('donuts', 1), ('dbd', 1), ('thsense', 1), ('nct', 1), ('jelas', 1), ('kaga', 1), ('realdonaldtrump', 1), ('showdown', 1), ('intense', 1), ('xipcm', 1), ('bz', 1), ('inktober', 1), ('drawing', 1), ('sketch', 1), ('kamenrider', 1), ('fanart', 1), ('miniso', 1), ('anatomy', 1), ('learning', 1), ('kyednbhi', 1), ('yaoisociety', 1), ('ayoo', 1), ('black', 1), ('hair', 1), ('cultural', 1), ('appropriation', 1), ('racist', 1), ('dems', 1), ('gotten', 1), ('refund', 1), ('screenshot', 1), ('promis', 1), ('hq', 1), ('wkjpkql', 1), ('facepalming', 1), ('self', 1), ('bruh', 1), ('txo', 1), ('rumz', 1), ('xgqfk', 1), ('hwg', 1), ('scrizhn', 1), ('posted', 1), ('photo', 1), ('dxfscz', 1), ('bcl', 1), ('fvck', 1), ('andayaaa', 1), ('temigilove', 1), ('dsho', 1), ('tijxq', 1), ('hanging', 1), ('gxcf', 1), ('tubirfess', 1), ('tubi', 1), ('shanakascore', 1), ('patchymeriiica', 1), ('polashiiee', 1), ('maryyjaiee', 1), ('pay', 1), ('attention', 1), ('cubsgirl', 1), ('outdoor', 1), ('cat', 1), ('sound', 1), ('asleep', 1), ('tcmbrqwd', 1), ('chohan', 1), ('vikramwkarve', 1), ('satishbahri', 1), ('kayjay', 1), ('brigtejinder', 1), ('cmseth', 1), ('nagmamagaling', 1), ('ang', 1), ('hanep', 1), ('sex', 1), ('alright', 1), ('spreading', 1), ('propaganda', 1), ('lljagb', 1), ('roboticcrab', 1), ('logfromblammo', 1), ('octopus', 1), ('rethink', 1), ('whatever', 1), ('trying', 1), ('figure', 1), ('ravaged', 1), ('hole', 1), ('dove', 1), ('dunkindonuts', 1), ('crb', 1), ('khrgly', 1), ('hwangexnbi', 1), ('sama', 1), ('huhuhu', 1), ('gabut', 1), ('sesungguhnya', 1), ('jika', 1), ('menghabiskan', 1), ('jatah', 1), ('gagalmu', 1), ('tidak', 1), ('akan', 1), ('berhasil', 1), ('candraganteng', 1), ('ridzkidnhm', 1), ('andryfi', 1), ('ariffuadhassan', 1), ('ridwankamil', 1), ('lalu', 1), ('juga', 1), ('liat', 1), ('korban', 1), ('ukjg', 1), ('nlkfh', 1), ('milking', 1), ('ponypopony', 1), ('soniafurstenau', 1), ('article', 1), ('ignores', 1), ('research', 1), ('claiming', 1), ('discuss', 1), ('latest', 1), ('resear', 1), ('xhxzxu', 1), ('pze', 1), ('cosplayers', 1), ('fact', 1), ('zfriisiqwf', 1)]\n"
     ]
    }
   ],
   "source": [
    "import re\n",
    "from collections import Counter\n",
    "\n",
    "original = []\n",
    "\n",
    "for line in exist:\n",
    "    if line.get('retweeted_status') == None:\n",
    "        original.append(line)\n",
    "\n",
    "en_lang = []\n",
    "\n",
    "for line in original:\n",
    "    user = line['user']\n",
    "    if user.get('lang') == 'en':\n",
    "        en_lang.append(line)\n",
    "\n",
    "words = []\n",
    "\n",
    "for line in en_lang:\n",
    "    text = line.get('text')\n",
    "    low_text = text.lower()\n",
    "    \n",
    "    only_words = re.findall('([a-z]+)', low_text)\n",
    "    words.extend(only_words)\n",
    "\n",
    "counter = Counter(words)\n",
    "words_list = counter.most_common()\n",
    "print(words_list)"
   ]
  },
  {
   "cell_type": "markdown",
   "metadata": {},
   "source": [
    "## Задание 7\n",
    "\n",
    "Решается по аналогии с заданием 4. "
   ]
  },
  {
   "cell_type": "code",
   "execution_count": 49,
   "metadata": {},
   "outputs": [
    {
     "name": "stdout",
     "output_type": "stream",
     "text": [
      "[('FIL0S0FIA', 2521403), ('FitnessMagazine', 1491309), ('malaysiakini', 1206759), ('NYTScience', 1137374), ('GramaticaReal', 625463), ('tgrthabertv', 392472), ('TheSunFootball', 383698), ('Melbourne', 374222), ('Roznama_Express', 318189), ('burger_boogie', 311319)]\n"
     ]
    }
   ],
   "source": [
    "from collections import Counter\n",
    "\n",
    "name_count = {} #создаем словарь с парами имя: кол-во подписчиков\n",
    "\n",
    "for line in exist:\n",
    "    user = line['user']\n",
    "    name = user.get('screen_name')\n",
    "    count = user.get('followers_count')\n",
    "    name_count[name] = count\n",
    "\n",
    "counter = Counter(name_count)\n",
    "users = counter.most_common(10)\n",
    "\n",
    "print(users)"
   ]
  },
  {
   "cell_type": "code",
   "execution_count": null,
   "metadata": {},
   "outputs": [],
   "source": []
  }
 ],
 "metadata": {
  "kernelspec": {
   "display_name": "Python 3",
   "language": "python",
   "name": "python3"
  },
  "language_info": {
   "codemirror_mode": {
    "name": "ipython",
    "version": 3
   },
   "file_extension": ".py",
   "mimetype": "text/x-python",
   "name": "python",
   "nbconvert_exporter": "python",
   "pygments_lexer": "ipython3",
   "version": "3.6.4"
  }
 },
 "nbformat": 4,
 "nbformat_minor": 2
}
